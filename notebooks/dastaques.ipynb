{
 "cells": [
  {
   "cell_type": "code",
   "execution_count": 6,
   "metadata": {},
   "outputs": [
    {
     "name": "stderr",
     "output_type": "stream",
     "text": [
      "/home/sun/.local/lib/python3.10/site-packages/elasticsearch/connection/http_urllib3.py:209: UserWarning: Connecting to https://localhost:9200 using SSL with verify_certs=False is insecure.\n",
      "  warnings.warn(\n"
     ]
    }
   ],
   "source": [
    "import os\n",
    "import pandas as pd\n",
    "import math\n",
    "from functions import get_all_origins, create_documents_with_pandas\n",
    "import re\n",
    "import numpy as np\n",
    "\n",
    "from elasticsearch import Elasticsearch, helpers\n",
    "\n",
    "# Configurar a conexão com o cluster Elasticsearch\n",
    "es_hosts = \"https://localhost:9200\"\n",
    "es_user = os.getenv('ES_USER')\n",
    "es_pass = \"mVaMFHh2bzSjipgsNCcY\"\n",
    "\n",
    "es = Elasticsearch(\n",
    "    [es_hosts],\n",
    "    http_auth=(es_user, es_pass),\n",
    "    verify_certs=False \n",
    "    )\n",
    "\n",
    "pd.set_option('display.max_rows', None)\n",
    "pd.set_option('display.max_columns', None)\n",
    "\n",
    "df = get_all_origins()"
   ]
  },
  {
   "cell_type": "code",
   "execution_count": 7,
   "metadata": {},
   "outputs": [],
   "source": [
    "def filter_title(df, keyword):\n",
    "    filtered_df = df[df['titulo'].str.contains(keyword, case=False)]\n",
    "    return filtered_df\n",
    "\n",
    "def exclude_in_title(df, keyword):\n",
    "    filtered_df = df[~df['titulo'].str.contains(keyword, case=False)]\n",
    "    return filtered_df\n",
    "\n",
    "def gen_destaques(wordlist, df):\n",
    "    df_index = None\n",
    "    for words in wordlist:\n",
    "        for keyword in words['keywords']:\n",
    "            if (words['type'] == 'filter'):\n",
    "                df_aux = filter_title(df, keyword)\n",
    "                if df_index is None:\n",
    "                    df_index = df_aux\n",
    "                else:\n",
    "                    df_index = pd.concat([df_index, df_aux], ignore_index=True)\n",
    "            else:\n",
    "                df_index = exclude_in_title(df_index, keyword)\n",
    "    \n",
    "    return df_index"
   ]
  },
  {
   "cell_type": "code",
   "execution_count": 8,
   "metadata": {},
   "outputs": [
    {
     "name": "stderr",
     "output_type": "stream",
     "text": [
      "/home/sun/.local/lib/python3.10/site-packages/urllib3/connectionpool.py:1043: InsecureRequestWarning: Unverified HTTPS request is being made to host 'localhost'. Adding certificate verification is strongly advised. See: https://urllib3.readthedocs.io/en/1.26.x/advanced-usage.html#ssl-warnings\n",
      "  warnings.warn(\n",
      "/home/sun/.local/lib/python3.10/site-packages/urllib3/connectionpool.py:1043: InsecureRequestWarning: Unverified HTTPS request is being made to host 'localhost'. Adding certificate verification is strongly advised. See: https://urllib3.readthedocs.io/en/1.26.x/advanced-usage.html#ssl-warnings\n",
      "  warnings.warn(\n"
     ]
    },
    {
     "data": {
      "text/plain": [
       "(12, [])"
      ]
     },
     "execution_count": 8,
     "metadata": {},
     "output_type": "execute_result"
    }
   ],
   "source": [
    "sabores = [\"banana cream\", \"baunilha\", \"beijinho\", \"beijinho de coco\", \"brigadeiro\",\"brownie chocolate\",\"cafe\",\"cappuccino\",\"caramelo crocante\",\"cheesecake chocolate\",\"cheesecake de maracuja\",\"cheesecake de morango\",\"chocolate\",\"chocolate crocante\",\"churros\",\"cocco cioccolato\",\"cocco e cioccolato\",\"cookies\",\"cookies cream\",\"cookies e cream\",\"doce de leite\",\"dulce de leche premium\",\"duo bianco al latte\",\"leite cacau avela\",\"leite de coco\",\"limão\",\"maracuja mousse\",\"milho verde\",\"morango\",\"morango com chantilly\",\"napolitano\",\"pao de mel\",\"peanut butter\",\"strawberry milk shake\",\"strawberry milkshake\",\"torta al limone\",\"torta cioccolato bianco\",\"torta de banana\",\"torta de limão\",\"vanilla cream\",\"vitamina de frutas\"]\n",
    "blacklist = [\"barrinha\", \"barra\", 'break', 'bar', 'wafer', 'kit', 'combo']\n",
    "keywords = ['whey']\n",
    "wordlist = [{\"keywords\": sabores, \"type\": \"filter\"}, {\"keywords\": blacklist, \"type\": \"exclude\"}]\n",
    "\n",
    "df_index = gen_destaques(wordlist, df)\n",
    "df_index = filter_title(df_index, keywords[0])\n",
    "df_index = df_index.sample(12)\n",
    "\n",
    "indice_elasticsearch = 'suplementos_whey'\n",
    "es.delete_by_query(index=indice_elasticsearch, body={\"query\": {\"match_all\": {}}})\n",
    "helpers.bulk(es, create_documents_with_pandas(df_index, indice_elasticsearch))"
   ]
  },
  {
   "cell_type": "code",
   "execution_count": 9,
   "metadata": {},
   "outputs": [
    {
     "name": "stderr",
     "output_type": "stream",
     "text": [
      "/home/sun/.local/lib/python3.10/site-packages/urllib3/connectionpool.py:1043: InsecureRequestWarning: Unverified HTTPS request is being made to host 'localhost'. Adding certificate verification is strongly advised. See: https://urllib3.readthedocs.io/en/1.26.x/advanced-usage.html#ssl-warnings\n",
      "  warnings.warn(\n"
     ]
    },
    {
     "data": {
      "text/plain": [
       "(12, [])"
      ]
     },
     "execution_count": 9,
     "metadata": {},
     "output_type": "execute_result"
    }
   ],
   "source": [
    "sabores = [\"avela\", \"banoffee\", \"beijinho\", \"beijinho de coco\", \"berries crispies\", \"bombom de coco\", \"brigadeiro\", \"brownie chocolate\", \"brownie crispies\", \"cafe\", \"cafe doce de leite\", \"caramelo amendoim\", \"caramelo crocante\", \"cheesecake de maracuja\", \"cheesecake de morango\", \"chocolate\", \"churros\", \"cookie\", \"cookies cream\", \"crisp gourmet\", \"doce de leite\", \"dulce de leche e limao siciliano\", \"dulce de leche havanna\", \"duo bianco al latte\", \"floresta negra\", \"leite cacau avelã\", \"leite condensado\", \"morango com chantilly\", \"morango perfetto\", \"mousse de maracujá\", \"pacoca\", \"pacoca chocolate\", \"pao de mel\", \"peanut butter\", \"penaut caramel\", \"protein crisp\", \"torta al limone\", \"torta cioccolato bianco\", \"torta de banana\", \"torta de limao\", \"trufa de avelã\", \"trufa de chocolate\", \"trufa de morango\"]\n",
    "blacklist = ['wafer', 'kit', 'combo']\n",
    "keywords = ['bar']\n",
    "wordlist = [{\"keywords\": sabores, \"type\": \"filter\"}, {\"keywords\": blacklist, \"type\": \"exclude\"}]\n",
    "\n",
    "df_index = gen_destaques(wordlist, df)\n",
    "df_index = filter_title(df_index, keywords[0])\n",
    "df_index = df_index.sample(12)\n",
    "\n",
    "indice_elasticsearch = 'suplementos_barrinhas'\n",
    "es.delete_by_query(index=indice_elasticsearch, body={\"query\": {\"match_all\": {}}})\n",
    "helpers.bulk(es, create_documents_with_pandas(df_index, indice_elasticsearch))\n"
   ]
  },
  {
   "cell_type": "code",
   "execution_count": 10,
   "metadata": {},
   "outputs": [
    {
     "name": "stderr",
     "output_type": "stream",
     "text": [
      "/home/sun/.local/lib/python3.10/site-packages/urllib3/connectionpool.py:1043: InsecureRequestWarning: Unverified HTTPS request is being made to host 'localhost'. Adding certificate verification is strongly advised. See: https://urllib3.readthedocs.io/en/1.26.x/advanced-usage.html#ssl-warnings\n",
      "  warnings.warn(\n"
     ]
    },
    {
     "data": {
      "text/plain": [
       "(12, [])"
      ]
     },
     "execution_count": 10,
     "metadata": {},
     "output_type": "execute_result"
    }
   ],
   "source": [
    "keywords = ['pretreino', 'pre treino', 'preworkout', 'pre workout', 'workout']\n",
    "blacklist = ['whey', 'creatina']\n",
    "wordlist = [{\"keywords\": keywords, \"type\": \"filter\"},{\"keywords\": blacklist, \"type\": \"exclude\"}]\n",
    "\n",
    "df_index = gen_destaques(wordlist, df)\n",
    "df_index = filter_title(df_index, keywords[0])\n",
    "df_index = df_index.sample(12)\n",
    "\n",
    "indice_elasticsearch = 'suplementos_pretreino'\n",
    "es.delete_by_query(index=indice_elasticsearch, body={\"query\": {\"match_all\": {}}})\n",
    "helpers.bulk(es, create_documents_with_pandas(df_index, indice_elasticsearch))"
   ]
  }
 ],
 "metadata": {
  "kernelspec": {
   "display_name": "Python 3",
   "language": "python",
   "name": "python3"
  },
  "language_info": {
   "codemirror_mode": {
    "name": "ipython",
    "version": 3
   },
   "file_extension": ".py",
   "mimetype": "text/x-python",
   "name": "python",
   "nbconvert_exporter": "python",
   "pygments_lexer": "ipython3",
   "version": "3.10.12"
  }
 },
 "nbformat": 4,
 "nbformat_minor": 5
}
