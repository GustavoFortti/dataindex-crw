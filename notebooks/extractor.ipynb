{
 "cells": [
  {
   "cell_type": "code",
   "execution_count": 1,
   "id": "a78954f8",
   "metadata": {},
   "outputs": [],
   "source": [
    "import sys\n",
    "sys.path.append('/home/mage/main/dataindex-crw')\n",
    "import importlib\n",
    "\n",
    "args = {\n",
    "    \"job_name\": \"darkness\",\n",
    "    \"job_type\": \"extract\",\n",
    "    \"option\": \"status_job\",\n",
    "    \"page_type\": \"supplement\",\n",
    "    \"country\": \"brazil\",\n",
    "    \"mode\": \"dev\"\n",
    "}"
   ]
  },
  {
   "cell_type": "code",
   "execution_count": 4,
   "id": "65f548eb",
   "metadata": {},
   "outputs": [
    {
     "name": "stderr",
     "output_type": "stream",
     "text": [
      "2024-03-03 17:58:14,100 - INFO - status_job\n",
      "2024-03-03 17:58:14,101 - INFO - O arquivo None/pages/supplement/brazil/darkness/seed.json não foi encontrado.\n",
      "2024-03-03 17:58:14,102 - INFO - The file None/data/supplement/brazil/darkness/tree_temp.csv does not exist\n",
      "2024-03-03 17:58:14,103 - INFO - create_or_read_df\n",
      "2024-03-03 17:58:14,104 - INFO - read file: None/data/supplement/brazil/darkness/origin.csv\n"
     ]
    },
    {
     "name": "stdout",
     "output_type": "stream",
     "text": [
      "JOB_NAME: darkness - EXEC: extract\n"
     ]
    },
    {
     "ename": "TypeError",
     "evalue": "'NoneType' object is not iterable",
     "output_type": "error",
     "traceback": [
      "\u001b[0;31m---------------------------------------------------------------------------\u001b[0m",
      "\u001b[0;31mTypeError\u001b[0m                                 Traceback (most recent call last)",
      "Cell \u001b[0;32mIn[4], line 12\u001b[0m\n\u001b[1;32m      9\u001b[0m     \u001b[38;5;28;01mdel\u001b[39;00m sys\u001b[38;5;241m.\u001b[39mmodules[module_name]\n\u001b[1;32m     11\u001b[0m module \u001b[38;5;241m=\u001b[39m importlib\u001b[38;5;241m.\u001b[39mimport_module(module_name)\n\u001b[0;32m---> 12\u001b[0m \u001b[43mmodule\u001b[49m\u001b[38;5;241;43m.\u001b[39;49m\u001b[43mrun\u001b[49m\u001b[43m(\u001b[49m\u001b[43margs\u001b[49m\u001b[43m)\u001b[49m\n",
      "File \u001b[0;32m~/main/dataindex-crw/pages/supplement/brazil/darkness/job.py:46\u001b[0m, in \u001b[0;36mrun\u001b[0;34m(args)\u001b[0m\n\u001b[1;32m     44\u001b[0m exec_function \u001b[38;5;241m=\u001b[39m options\u001b[38;5;241m.\u001b[39mget(job_type)\n\u001b[1;32m     45\u001b[0m \u001b[38;5;28;01mif\u001b[39;00m (exec_function):\n\u001b[0;32m---> 46\u001b[0m     \u001b[43mexec_function\u001b[49m\u001b[43m(\u001b[49m\u001b[43mconf\u001b[49m\u001b[43m)\u001b[49m\n",
      "File \u001b[0;32m~/main/dataindex-crw/pages/supplement/brazil/darkness/extract.py:54\u001b[0m, in \u001b[0;36mextract\u001b[0;34m(conf)\u001b[0m\n\u001b[1;32m     53\u001b[0m \u001b[38;5;28;01mdef\u001b[39;00m \u001b[38;5;21mextract\u001b[39m(conf):\n\u001b[0;32m---> 54\u001b[0m     \u001b[43mrun_page_mapper\u001b[49m\u001b[43m(\u001b[49m\u001b[43mconf\u001b[49m\u001b[43m,\u001b[49m\u001b[43m \u001b[49m\u001b[43mJob\u001b[49m\u001b[43m)\u001b[49m\n",
      "File \u001b[0;32m~/main/dataindex-crw/shared/page_mapper.py:59\u001b[0m, in \u001b[0;36mrun\u001b[0;34m(conf, Job)\u001b[0m\n\u001b[1;32m     57\u001b[0m conf[\u001b[38;5;124m'\u001b[39m\u001b[38;5;124mstatus_job\u001b[39m\u001b[38;5;124m'\u001b[39m] \u001b[38;5;241m=\u001b[39m \u001b[38;5;28;01mTrue\u001b[39;00m\n\u001b[1;32m     58\u001b[0m job \u001b[38;5;241m=\u001b[39m Job(conf)\n\u001b[0;32m---> 59\u001b[0m \u001b[43mseed\u001b[49m\u001b[43m(\u001b[49m\u001b[43mjob\u001b[49m\u001b[43m)\u001b[49m\n",
      "File \u001b[0;32m~/main/dataindex-crw/shared/page_mapper.py:78\u001b[0m, in \u001b[0;36mseed\u001b[0;34m(job)\u001b[0m\n\u001b[1;32m     75\u001b[0m job\u001b[38;5;241m.\u001b[39mconf[\u001b[38;5;124m'\u001b[39m\u001b[38;5;124mdf_tree\u001b[39m\u001b[38;5;124m'\u001b[39m] \u001b[38;5;241m=\u001b[39m df_tree\n\u001b[1;32m     77\u001b[0m job\u001b[38;5;241m.\u001b[39mconf[\u001b[38;5;124m\"\u001b[39m\u001b[38;5;124msize_items\u001b[39m\u001b[38;5;124m\"\u001b[39m] \u001b[38;5;241m=\u001b[39m \u001b[38;5;241m0\u001b[39m\n\u001b[0;32m---> 78\u001b[0m \u001b[38;5;28;01mfor\u001b[39;00m value, seed \u001b[38;5;129;01min\u001b[39;00m \u001b[38;5;28;43menumerate\u001b[39;49m\u001b[43m(\u001b[49m\u001b[43mseeds\u001b[49m\u001b[43m)\u001b[49m:\n\u001b[1;32m     79\u001b[0m     message(\u001b[38;5;124mf\u001b[39m\u001b[38;5;124m\"\u001b[39m\u001b[38;5;124mseed: \u001b[39m\u001b[38;5;132;01m{\u001b[39;00mseed\u001b[38;5;132;01m}\u001b[39;00m\u001b[38;5;124m\"\u001b[39m)\n\u001b[1;32m     80\u001b[0m     message(\u001b[38;5;124mf\u001b[39m\u001b[38;5;124m\"\u001b[39m\u001b[38;5;124mindex seed: \u001b[39m\u001b[38;5;132;01m{\u001b[39;00mvalue\u001b[38;5;132;01m}\u001b[39;00m\u001b[38;5;124m / \u001b[39m\u001b[38;5;132;01m{\u001b[39;00m\u001b[38;5;28mlen\u001b[39m(seeds)\u001b[38;5;132;01m}\u001b[39;00m\u001b[38;5;124m\"\u001b[39m)\n",
      "\u001b[0;31mTypeError\u001b[0m: 'NoneType' object is not iterable"
     ]
    }
   ],
   "source": [
    "job_name = args[\"job_name\"]\n",
    "page_type = args[\"page_type\"]\n",
    "country = args[\"country\"]\n",
    "\n",
    "module_name = f\"pages.{page_type}.{country}.{job_name}.job\"\n",
    "\n",
    "# Remove o módulo do cache antes de importar novamente\n",
    "if module_name in sys.modules:\n",
    "    del sys.modules[module_name]\n",
    "\n",
    "module = importlib.import_module(module_name)\n",
    "module.run(args)"
   ]
  }
 ],
 "metadata": {
  "kernelspec": {
   "display_name": "Python 3",
   "language": "python",
   "name": "python3"
  },
  "language_info": {
   "codemirror_mode": {
    "name": "ipython",
    "version": 3
   },
   "file_extension": ".py",
   "mimetype": "text/x-python",
   "name": "python",
   "nbconvert_exporter": "python",
   "pygments_lexer": "ipython3",
   "version": "3.10.12"
  }
 },
 "nbformat": 4,
 "nbformat_minor": 5
}
