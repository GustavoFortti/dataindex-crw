{
 "cells": [
  {
   "cell_type": "code",
   "execution_count": 3,
   "id": "978ce784",
   "metadata": {},
   "outputs": [
    {
     "name": "stdout",
     "output_type": "stream",
     "text": [
      "/home/mage/main/dataindex-crw/notebooks\n"
     ]
    }
   ],
   "source": []
  },
  {
   "cell_type": "code",
   "execution_count": 5,
   "id": "37f53c5e",
   "metadata": {},
   "outputs": [],
   "source": [
    "import cv2\n",
    "import numpy as np\n",
    "\n",
    "# Carrega a imagem do produto e o template\n",
    "produto = cv2.imread('./train/3fc276b6_page.png')\n",
    "template = cv2.imread('./label/3fc276b6_page.png')\n",
    "w, h = template.shape[:-1]\n",
    "\n",
    "# Realiza o template matching\n",
    "res = cv2.matchTemplate(produto, template, cv2.TM_CCOEFF_NORMED)\n",
    "\n",
    "# Define um limiar\n",
    "threshold = 0.8\n",
    "loc = np.where(res >= threshold)\n",
    "\n",
    "# Desenha retângulos ao redor das correspondências encontradas\n",
    "for pt in zip(*loc[::-1]):  # Troca as coordenadas\n",
    "    cv2.rectangle(produto, pt, (pt[0] + w, pt[1] + h), (0, 255, 0), 2)\n",
    "\n",
    "# Mostra a imagem final com as correspondências destacadas\n",
    "cv2.imshow('Matched', produto)\n",
    "cv2.waitKey(0)\n",
    "cv2.destroyAllWindows()\n"
   ]
  }
 ],
 "metadata": {
  "kernelspec": {
   "display_name": "Python 3",
   "language": "python",
   "name": "python3"
  },
  "language_info": {
   "codemirror_mode": {
    "name": "ipython",
    "version": 3
   },
   "file_extension": ".py",
   "mimetype": "text/x-python",
   "name": "python",
   "nbconvert_exporter": "python",
   "pygments_lexer": "ipython3",
   "version": "3.10.12"
  }
 },
 "nbformat": 4,
 "nbformat_minor": 5
}
