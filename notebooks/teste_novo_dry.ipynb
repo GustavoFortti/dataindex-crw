{
 "cells": [
  {
   "cell_type": "code",
   "execution_count": 1,
   "metadata": {},
   "outputs": [],
   "source": [
    "import os\n",
    "import pandas as pd\n",
    "from functions import get_all_origins, find_pattern_for_quantity, convert_to_grams, relation_qnt_preco, remove_spaces, clean_text\n",
    "import re\n",
    "import numpy as np\n",
    "\n",
    "pd.set_option('display.max_rows', None)\n",
    "pd.set_option('display.max_columns', None)\n",
    "\n",
    "df = get_all_origins()"
   ]
  },
  {
   "cell_type": "code",
   "execution_count": 3,
   "id": "346ee141",
   "metadata": {},
   "outputs": [
    {
     "name": "stdout",
     "output_type": "stream",
     "text": [
      "<class 'pandas.core.frame.DataFrame'>\n",
      "RangeIndex: 1389 entries, 0 to 1388\n",
      "Data columns (total 16 columns):\n",
      " #   Column         Non-Null Count  Dtype  \n",
      "---  ------         --------------  -----  \n",
      " 0   ref            1389 non-null   object \n",
      " 1   title          1389 non-null   object \n",
      " 2   price          1389 non-null   object \n",
      " 3   image_url      1389 non-null   object \n",
      " 4   product_url    1389 non-null   object \n",
      " 5   ing_date       1389 non-null   object \n",
      " 6   name           1389 non-null   object \n",
      " 7   brand          1389 non-null   object \n",
      " 8   price_numeric  1389 non-null   float64\n",
      " 9   quantity       626 non-null    float64\n",
      " 10  price_qnt      626 non-null    float64\n",
      " 11  spec_5         945 non-null    object \n",
      " 12  spec_4         268 non-null    object \n",
      " 13  spec_3         377 non-null    object \n",
      " 14  spec_2         805 non-null    object \n",
      " 15  spec_1         0 non-null      float64\n",
      "dtypes: float64(4), object(12)\n",
      "memory usage: 173.8+ KB\n"
     ]
    }
   ],
   "source": [
    "df.info()"
   ]
  }
 ],
 "metadata": {
  "kernelspec": {
   "display_name": "Python 3",
   "language": "python",
   "name": "python3"
  },
  "language_info": {
   "codemirror_mode": {
    "name": "ipython",
    "version": 3
   },
   "file_extension": ".py",
   "mimetype": "text/x-python",
   "name": "python",
   "nbconvert_exporter": "python",
   "pygments_lexer": "ipython3",
   "version": "3.10.12"
  }
 },
 "nbformat": 4,
 "nbformat_minor": 5
}
