{
 "cells": [
  {
   "cell_type": "code",
   "execution_count": 1,
   "metadata": {},
   "outputs": [],
   "source": [
    "import os\n",
    "import pandas as pd\n",
    "from functions import get_all_origins, find_pattern_for_quantity, convert_to_grams, relation_qnt_preco, remove_spaces, clean_text\n",
    "import re\n",
    "import numpy as np\n",
    "\n",
    "pd.set_option('display.max_rows', None)\n",
    "pd.set_option('display.max_columns', None)"
   ]
  },
  {
   "cell_type": "code",
   "execution_count": 2,
   "metadata": {},
   "outputs": [],
   "source": [
    "df = get_all_origins()"
   ]
  },
  {
   "cell_type": "code",
   "execution_count": 8,
   "metadata": {},
   "outputs": [],
   "source": [
    "# df[df['titulo'].str.contains(r'\\bwhey\\b', case=False, regex=True)]['titulo']"
   ]
  },
  {
   "cell_type": "code",
   "execution_count": 10,
   "metadata": {},
   "outputs": [
    {
     "data": {
      "text/plain": [
       "['morango com chantilly',\n",
       " 'pao de mel',\n",
       " 'cheesecake de morango',\n",
       " 'cocco cioccolato',\n",
       " 'dulce de leche premium',\n",
       " 'torta de banana',\n",
       " 'strawberry milkshake',\n",
       " 'banana cream',\n",
       " 'torta al limone',\n",
       " 'vanilla cream',\n",
       " 'torta de limão',\n",
       " 'cappuccino',\n",
       " 'vitamina de frutas',\n",
       " 'limão',\n",
       " 'cheesecake de maracuja',\n",
       " 'chocolate',\n",
       " 'napolitano',\n",
       " 'original',\n",
       " 'torta cioccolato bianco',\n",
       " 'original cafe',\n",
       " 'doce de leite',\n",
       " 'maracuja mousse',\n",
       " 'beijinho',\n",
       " 'double chocolate',\n",
       " 'leite de coco',\n",
       " 'cookies',\n",
       " 'chocolate crocante',\n",
       " 'brownie chocolate',\n",
       " 'cocciocioccolato',\n",
       " 'milho verde',\n",
       " 'caramelo crocante',\n",
       " 'duo bianco al latte',\n",
       " 'strawberry milk shake',\n",
       " 'churros',\n",
       " 'cookies e cream',\n",
       " 'cheesecake chocolate',\n",
       " 'leite cacau avela',\n",
       " 'beijinho de coco',\n",
       " 'baunilha',\n",
       " 'morango',\n",
       " 'peanut butter',\n",
       " 'cookies cream',\n",
       " 'brigadeiro']"
      ]
     },
     "execution_count": 10,
     "metadata": {},
     "output_type": "execute_result"
    }
   ],
   "source": [
    "sabores_whey = "
   ]
  },
  {
   "cell_type": "code",
   "execution_count": null,
   "metadata": {},
   "outputs": [],
   "source": [
    "\n",
    "df = df[df['ref'] == \"7a68879e\"]\n",
    "pattern = r'(\\d+[.,]?\\d*)\\s*(kg|g|gr|gramas)(?!\\s*gratis)\\b'\n",
    "df[['quantidade', 'unidade']] = df['nome'].apply(lambda text: find_pattern_for_quantity(text, pattern)).apply(pd.Series)\n",
    "df[['quantidade', 'unidade', 'titulo']]\n",
    "df['qnt_gramas'] = df[['quantidade', 'unidade']].apply(convert_to_grams, axis=1)\n",
    "df['preco_qnt'] = df.apply(relation_qnt_preco, axis=1)\n",
    "df['qnt_gramas'] = df['qnt_gramas'].replace(-1, np.nan, inplace=True)\n",
    "df\n",
    "\n",
    "# pattern = r'(\\d+)\\s*(caps|cap|cáps|v-caps|cápsulas|capsules|cáp|comprimidos|comps|comp|capsulas|barras|soft|softgel|sachês|doses|dose|tabs|tabletes|tablets|gotas)\\b'\n",
    "# df[['quantidade_formato', 'formato']] = df['nome'].apply(lambda text: mask_qnt(text, pattern)).apply(pd.Series)\n",
    "# df['formato'] = df['formato'].apply(substituir_por_comprimidos)\n",
    "\n",
    "# pattern = r'(\\d+)\\s*(caixa|display\\s*c/|unidades|unid|un|saches|caixas|x)\\b'\n",
    "# df[['quantidade_formato_2', 'formato_2']] = df['nome'].apply(lambda text: mask_qnt(text, pattern)).apply(pd.Series)"
   ]
  }
 ],
 "metadata": {
  "kernelspec": {
   "display_name": "Python 3",
   "language": "python",
   "name": "python3"
  },
  "language_info": {
   "codemirror_mode": {
    "name": "ipython",
    "version": 3
   },
   "file_extension": ".py",
   "mimetype": "text/x-python",
   "name": "python",
   "nbconvert_exporter": "python",
   "pygments_lexer": "ipython3",
   "version": "3.10.12"
  }
 },
 "nbformat": 4,
 "nbformat_minor": 5
}
