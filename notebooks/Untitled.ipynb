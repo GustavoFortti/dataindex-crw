{
 "cells": [
  {
   "cell_type": "code",
   "execution_count": 1,
   "metadata": {},
   "outputs": [],
   "source": [
    "import os\n",
    "import pandas as pd\n",
    "from functions import get_all_origins, find_pattern_for_quantity, convert_to_grams, relation_qnt_preco, remove_spaces, clean_text\n",
    "import re\n",
    "import numpy as np\n",
    "\n",
    "pd.set_option('display.max_rows', None)\n",
    "pd.set_option('display.max_columns', None)"
   ]
  },
  {
   "cell_type": "code",
   "execution_count": 2,
   "metadata": {},
   "outputs": [],
   "source": [
    "df = get_all_origins()"
   ]
  },
  {
   "cell_type": "code",
   "execution_count": 4,
   "metadata": {},
   "outputs": [
    {
     "data": {
      "text/html": [
       "<div>\n",
       "<style scoped>\n",
       "    .dataframe tbody tr th:only-of-type {\n",
       "        vertical-align: middle;\n",
       "    }\n",
       "\n",
       "    .dataframe tbody tr th {\n",
       "        vertical-align: top;\n",
       "    }\n",
       "\n",
       "    .dataframe thead th {\n",
       "        text-align: right;\n",
       "    }\n",
       "</style>\n",
       "<table border=\"1\" class=\"dataframe\">\n",
       "  <thead>\n",
       "    <tr style=\"text-align: right;\">\n",
       "      <th></th>\n",
       "      <th>titulo</th>\n",
       "      <th>quantidade</th>\n",
       "    </tr>\n",
       "  </thead>\n",
       "  <tbody>\n",
       "  </tbody>\n",
       "</table>\n",
       "</div>"
      ],
      "text/plain": [
       "Empty DataFrame\n",
       "Columns: [titulo, quantidade]\n",
       "Index: []"
      ]
     },
     "execution_count": 4,
     "metadata": {},
     "output_type": "execute_result"
    }
   ],
   "source": [
    "import re\n",
    "\n",
    "# Verifique se cada valor da coluna 'especificacao_rota' é uma string\n",
    "filtro = df['titulo'].apply(lambda x: isinstance(x, str) and bool(re.search(r'(\\d+([.,]\\d+)?)\\s*(kg|g|gr|gramas)\\s*(\\w+)', x)))\n",
    "\n",
    "# Use o filtro para selecionar as linhas relevantes do DataFrame\n",
    "resultado = df[filtro][['titulo', 'quantidade']]\n",
    "resultado\n"
   ]
  },
  {
   "cell_type": "code",
   "execution_count": 11,
   "metadata": {},
   "outputs": [
    {
     "data": {
      "text/html": [
       "<div>\n",
       "<style scoped>\n",
       "    .dataframe tbody tr th:only-of-type {\n",
       "        vertical-align: middle;\n",
       "    }\n",
       "\n",
       "    .dataframe tbody tr th {\n",
       "        vertical-align: top;\n",
       "    }\n",
       "\n",
       "    .dataframe thead th {\n",
       "        text-align: right;\n",
       "    }\n",
       "</style>\n",
       "<table border=\"1\" class=\"dataframe\">\n",
       "  <thead>\n",
       "    <tr style=\"text-align: right;\">\n",
       "      <th></th>\n",
       "      <th>ref</th>\n",
       "      <th>titulo</th>\n",
       "      <th>preco</th>\n",
       "      <th>link_imagem</th>\n",
       "      <th>link_produto</th>\n",
       "      <th>ing_date</th>\n",
       "      <th>nome</th>\n",
       "      <th>marca</th>\n",
       "      <th>preco_numeric</th>\n",
       "      <th>quantidade</th>\n",
       "      <th>preco_qnt</th>\n",
       "      <th>quantidade_formato</th>\n",
       "      <th>formato</th>\n",
       "      <th>especificacao</th>\n",
       "      <th>especificacao_rota</th>\n",
       "      <th>unidade</th>\n",
       "    </tr>\n",
       "  </thead>\n",
       "  <tbody>\n",
       "    <tr>\n",
       "      <th>305</th>\n",
       "      <td>9085321c</td>\n",
       "      <td>tasty iso 1800g bag</td>\n",
       "      <td>407,55</td>\n",
       "      <td>https://adaptogen.com.br/wp-content/uploads/20...</td>\n",
       "      <td>https://adaptogen.com.br/tasty-iso-1800g-bag/</td>\n",
       "      <td>17/11/2023</td>\n",
       "      <td>tasty iso 1,800g bag</td>\n",
       "      <td>adaptogen</td>\n",
       "      <td>407.55</td>\n",
       "      <td>1800</td>\n",
       "      <td>0.226</td>\n",
       "      <td>NaN</td>\n",
       "      <td>NaN</td>\n",
       "      <td>NaN</td>\n",
       "      <td>whey protein iso</td>\n",
       "      <td>g</td>\n",
       "    </tr>\n",
       "  </tbody>\n",
       "</table>\n",
       "</div>"
      ],
      "text/plain": [
       "          ref               titulo   preco  \\\n",
       "305  9085321c  tasty iso 1800g bag  407,55   \n",
       "\n",
       "                                           link_imagem  \\\n",
       "305  https://adaptogen.com.br/wp-content/uploads/20...   \n",
       "\n",
       "                                      link_produto    ing_date  \\\n",
       "305  https://adaptogen.com.br/tasty-iso-1800g-bag/  17/11/2023   \n",
       "\n",
       "                     nome      marca  preco_numeric quantidade  preco_qnt  \\\n",
       "305  tasty iso 1,800g bag  adaptogen         407.55       1800      0.226   \n",
       "\n",
       "     quantidade_formato formato especificacao especificacao_rota unidade  \n",
       "305                 NaN     NaN           NaN   whey protein iso       g  "
      ]
     },
     "execution_count": 11,
     "metadata": {},
     "output_type": "execute_result"
    }
   ],
   "source": [
    "\n",
    "df = df[df['ref'] == \"9085321c\"]\n",
    "pattern = r'(\\d+[.,]?\\d*)\\s*(kg|g|gr|gramas)(?!\\s*gratis)\\b'\n",
    "df[['quantidade', 'unidade']] = df['titulo'].apply(lambda text: find_pattern_for_quantity(text, pattern)).apply(pd.Series)\n",
    "df['quantidade'] = df[['quantidade', 'unidade']].apply(convert_to_grams, axis=1)\n",
    "df['preco_qnt'] = df.apply(relation_qnt_preco, axis=1)\n",
    "df['quantidade'] = df['quantidade'].astype(str).replace(\"-1\", np.nan)\n",
    "df\n",
    "\n",
    "# pattern = r'(\\d+)\\s*(caps|cap|cáps|v-caps|cápsulas|capsules|cáp|comprimidos|comps|comp|capsulas|barras|soft|softgel|sachês|doses|dose|tabs|tabletes|tablets|gotas)\\b'\n",
    "# df[['quantidade_formato', 'formato']] = df['nome'].apply(lambda text: mask_qnt(text, pattern)).apply(pd.Series)\n",
    "# df['formato'] = df['formato'].apply(substituir_por_comprimidos)\n",
    "\n",
    "# pattern = r'(\\d+)\\s*(caixa|display\\s*c/|unidades|unid|un|saches|caixas|x)\\b'\n",
    "# df[['quantidade_formato_2', 'formato_2']] = df['nome'].apply(lambda text: mask_qnt(text, pattern)).apply(pd.Series)"
   ]
  }
 ],
 "metadata": {
  "kernelspec": {
   "display_name": "Python 3",
   "language": "python",
   "name": "python3"
  },
  "language_info": {
   "codemirror_mode": {
    "name": "ipython",
    "version": 3
   },
   "file_extension": ".py",
   "mimetype": "text/x-python",
   "name": "python",
   "nbconvert_exporter": "python",
   "pygments_lexer": "ipython3",
   "version": "3.10.12"
  }
 },
 "nbformat": 4,
 "nbformat_minor": 5
}
