{
 "cells": [
  {
   "cell_type": "code",
   "execution_count": 4,
   "id": "f68d97d9",
   "metadata": {},
   "outputs": [
    {
     "name": "stdout",
     "output_type": "stream",
     "text": [
      "Colagentek ® é um suplemento alimentar em pó à base de peptídeos de colágeno, com zero adição de açúcares e enriquecido com vitaminas e minerais.\n",
      "\n",
      "Pele viva e hidratada\n",
      "\n",
      "Colagentek ® Vitafor é referência em colágeno, quanto a composição, sabor e praticidade no consumo.  A combinação de 9g de colágeno hidrolisado por porção, associada a vitaminas e minerais, que auxiliam na formação do colágeno1, manutenção da pele e cabelo2, 3.\n",
      "\n",
      " \n",
      "\n",
      " \n",
      "\n",
      "Benefícios do produto:\n",
      "\n",
      "  * ²A biotina contribui para a manutenção do cabelo e da pele;\n",
      "  * ¹A vitamina C auxilia na formação do colágeno;\n",
      "  * A vitamina A auxilia na visão;\n",
      "  * As vitaminas A, B6, B12, C, D, ácido fólico e o cobre auxiliam no funcionamento do sistema imune;\n",
      "  * ³As vitaminas A e B3 contribuem para a manutenção da pele e o cobre para a pigmentação de cabelo e pele;\n",
      "  * As vitaminas B3, B5, B6, B12, C, biotina, o cobre e o manganês auxiliam no metabolismo energético;\n",
      "  * As vitaminas C e E, o cobre e o manganês são antioxidantes que auxiliam na proteção dos danos causados pelos radicais livres;\n",
      "  * Manganês auxilia na formação de ossos e a vitamina D na formação de ossos e dentes;\n",
      "  * A vitamina D auxilia no funcionamento muscular;\n",
      "  * Ácido fólico auxilia na síntese de aminoácidos;\n",
      "  * Cobre auxilia na manutenção dos tecidos conjuntivos e o manganês na manutenção dos tecidos conectivos\n",
      "\n",
      "\n",
      "\n",
      " \n",
      "\n"
     ]
    }
   ],
   "source": [
    "import html2text\n",
    "\n",
    "\n",
    "def html_to_plain_text(html_content):\n",
    "    # Criar o conversor\n",
    "    h = html2text.HTML2Text()\n",
    "    \n",
    "    # Configurações para remover formatação Markdown\n",
    "    h.ignore_links = True   # Ignorar links\n",
    "    h.ignore_images = True  # Ignorar imagens\n",
    "    h.ignore_emphasis = True  # Ignorar negrito/itálico (sem asteriscos ou underlines)\n",
    "    h.body_width = 0  # Não adicionar quebras de linha automáticas\n",
    "    \n",
    "    # Converter HTML para texto simples\n",
    "    plain_text = h.handle(html_content)\n",
    "    \n",
    "    return plain_text\n",
    "\n",
    "# Exemplo de uso:\n",
    "html_content = '''\n",
    "<div class=\"vitafor-store-theme-9-x-description\"><div><p>\n",
    "<div>\n",
    "<p><span data-contrast=\"auto\">Colagentek ® é um suplemento alimentar em pó à base de peptídeos de colágeno, com zero adição de açúcares e enriquecido com vitaminas e minerais.</span></p>\n",
    "<p><strong><span data-contrast=\"auto\">Pele viva e hidratada</span></strong></p>\n",
    "<p><strong><span data-contrast=\"auto\">Colagentek ® Vitafor é referência em colágeno</span></strong><span data-contrast=\"auto\">, quanto a composição, sabor e praticidade no consumo.&nbsp; A combinação de 9g de colágeno hidrolisado por porção, associada a vitaminas e minerais, que auxiliam na formação do colágeno</span><span data-contrast=\"auto\">1</span><span data-contrast=\"auto\">, manutenção da pele e cabelo</span><span data-contrast=\"auto\">2, 3</span><span data-contrast=\"auto\">.</span></p>\n",
    "<p>&nbsp;</p>\n",
    "</div>\n",
    "<p>&nbsp;</p>\n",
    "<div>\n",
    "<p><strong><span data-contrast=\"auto\">Benefícios do produto:</span></strong></p>\n",
    "<ul>\n",
    "<li><span data-contrast=\"auto\"> ²A biotina contribui para a manutenção do cabelo e da pele;</span></li>\n",
    "<li><span data-contrast=\"auto\"> ¹A vitamina C auxilia na formação do colágeno;</span></li>\n",
    "<li><span data-contrast=\"auto\"> A vitamina A auxilia na visão;</span></li>\n",
    "<li><span data-contrast=\"auto\"> As vitaminas A, B6, B12, C, D, ácido fólico e o cobre auxiliam no funcionamento do sistema imune;</span></li>\n",
    "<li><span data-contrast=\"auto\"> ³As vitaminas A e B3 contribuem para a manutenção da pele e o cobre para a pigmentação de cabelo e pele;</span></li>\n",
    "<li><span data-contrast=\"auto\"> As vitaminas B3, B5, B6, B12, C, biotina, o cobre e o manganês auxiliam no metabolismo energético;</span></li>\n",
    "<li><span data-contrast=\"auto\"> As vitaminas C e E, o cobre e o manganês são antioxidantes que auxiliam na proteção dos danos causados pelos radicais livres;</span></li>\n",
    "<li><span data-contrast=\"auto\"> Manganês auxilia na formação de ossos e a vitamina D na formação de ossos e dentes;</span></li>\n",
    "<li><span data-contrast=\"auto\"> A vitamina D auxilia no funcionamento muscular;</span></li>\n",
    "<li><span data-contrast=\"auto\"> Ácido fólico auxilia na síntese de aminoácidos;</span></li>\n",
    "<li><span data-contrast=\"auto\"> Cobre auxilia na manutenção dos tecidos conjuntivos e o manganês na manutenção dos tecidos conectivos</span></li>\n",
    "</ul>\n",
    "</div>\n",
    "<p>&nbsp;</p>\n",
    "</div></div>\n",
    "'''\n",
    "\n",
    "markdown = html_to_plain_text(html_content)\n",
    "print(markdown)\n"
   ]
  }
 ],
 "metadata": {
  "kernelspec": {
   "display_name": "venv",
   "language": "python",
   "name": "python3"
  },
  "language_info": {
   "codemirror_mode": {
    "name": "ipython",
    "version": 3
   },
   "file_extension": ".py",
   "mimetype": "text/x-python",
   "name": "python",
   "nbconvert_exporter": "python",
   "pygments_lexer": "ipython3",
   "version": "3.12.3"
  }
 },
 "nbformat": 4,
 "nbformat_minor": 5
}
